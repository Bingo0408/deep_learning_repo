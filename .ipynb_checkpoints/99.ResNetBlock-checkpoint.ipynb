{
 "cells": [
  {
   "cell_type": "code",
   "execution_count": null,
   "metadata": {},
   "outputs": [],
   "source": [
    "from keras import backend as K\n",
    "from keras import layers\n",
    "from keras.layers import Conv2D, Activation\n",
    "from keras.layers.normalization import BatchNormalization\n",
    "\"\"\"\n",
    "This code show you how to build a residual layer\n",
    "identity_block() can build residual block, potential enhancement: 1x1 conv for shortcut\n",
    "conv_block() can do down-sampling \n",
    "\"\"\""
   ]
  },
  {
   "cell_type": "code",
   "execution_count": 79,
   "metadata": {
    "collapsed": true
   },
   "outputs": [],
   "source": [
    "# 输出张量batch_size,height,width不变, 输出张量channel=filters[2]\n",
    "def identity_block(input_tensor, kernel_size, filters):\n",
    "    \"\"\" identity block在shortcut连接上没有卷积变换\n",
    "\n",
    "    # Arguments\n",
    "        input_tensor: 输入张量\n",
    "        kernel_size: 默认的卷积核size为3, 只作用于卷积层的第二层\n",
    "        filters: 3个卷积层的filter数\n",
    "\n",
    "    # Returns\n",
    "        output_tensor: 张量维度与输入保持不变\n",
    "    \"\"\"\n",
    "    \"\"\" \n",
    "        # Sample\n",
    "        filters = [64, 128, 256] \n",
    "        filters1 = 64\n",
    "        filters2 = 128\n",
    "        filters3 = 256\n",
    "    \"\"\"\n",
    "    filters1, filters2, filters3 = filters\n",
    "\n",
    "    # 根据tensorflow或者theano的后端决定BN对应的axis\n",
    "    if K.image_data_format() == 'channels_last':\n",
    "        bn_axis = 3\n",
    "    else:\n",
    "        bn_axis = 1\n",
    "    \n",
    "    # 为卷积层和BN层指定name, 为不影响理解, 这里都简化了, 正式使用时应动态添加stage和block说明\n",
    "    conv_name_base = 'res' + '_branch'\n",
    "    bn_name_base = 'bn' + '_branch'\n",
    "    \n",
    "    x = Conv2D(filters1, (1, 1), name=conv_name_base + '2a')(input_tensor)\n",
    "    x = BatchNormalization(axis=bn_axis, name=bn_name_base + '2a')(x)\n",
    "    x = Activation('relu')(x)\n",
    "\n",
    "    x = Conv2D(filters2, kernel_size, padding='same', name=conv_name_base + '2b')(x)\n",
    "    x = BatchNormalization(axis=bn_axis, name=bn_name_base + '2b')(x)\n",
    "    x = Activation('relu')(x)\n",
    "\n",
    "    x = Conv2D(filters3, (1, 1), name=conv_name_base + '2c')(x)\n",
    "    x = BatchNormalization(axis=bn_axis, name=bn_name_base + '2c')(x)\n",
    "\n",
    "    x = layers.add([x, input_tensor])\n",
    "    x = Activation('relu')(x)\n",
    "    return x"
   ]
  },
  {
   "cell_type": "code",
   "execution_count": 80,
   "metadata": {
    "collapsed": true
   },
   "outputs": [],
   "source": [
    "# 输出张量batch_size不变, 输出张量height,width=输入张量的#一半#, 输出张量channel=filters[2]\n",
    "def conv_block(input_tensor, kernel_size, filters, strides=(2, 2)):\n",
    "    \"\"\" conv block在shortcut连接上会进行卷积变换\n",
    "\n",
    "    # Arguments\n",
    "        input_tensor: 输入张量\n",
    "        kernel_size: 默认的卷积核size为3, 只作用于卷积层的第二层\n",
    "        filters: 3个卷积层的filter数\n",
    "        strides: 第一个卷积层的stride\n",
    "\n",
    "    # Returns\n",
    "        output_tensor: 输出tensor_size根据strides变化, 默认缩小一半\n",
    "\n",
    "    Note that from stage 3,\n",
    "    the first conv layer at main path is with strides=(2, 2)\n",
    "    And the shortcut should have strides=(2, 2) as well\n",
    "    \"\"\"\n",
    "    \"\"\" \n",
    "        # Sample\n",
    "        filters = [64, 128, 256] \n",
    "        filters1 = 64\n",
    "        filters2 = 128\n",
    "        filters3 = 256\n",
    "    \"\"\"\n",
    "    filters1, filters2, filters3 = filters\n",
    "    \n",
    "    # 根据tensorflow或者theano的后端决定BN对应的axis\n",
    "    if K.image_data_format() == 'channels_last':\n",
    "        bn_axis = 3\n",
    "    else:\n",
    "        bn_axis = 1\n",
    "    # 为卷积层和BN层指定name, 为不影响理解, 这里都简化了, 正式使用时应动态添加stage和block说明\n",
    "    conv_name_base = 'res' + '_branch'\n",
    "    bn_name_base = 'bn' + '_branch'\n",
    "\n",
    "    x = Conv2D(filters1, (1, 1), strides=strides, name=conv_name_base + '2a')(input_tensor)\n",
    "    x = BatchNormalization(axis=bn_axis, name=bn_name_base + '2a')(x)\n",
    "    x = Activation('relu')(x)\n",
    "\n",
    "    x = Conv2D(filters2, kernel_size, padding='same', name=conv_name_base + '2b')(x)\n",
    "    x = BatchNormalization(axis=bn_axis, name=bn_name_base + '2b')(x)\n",
    "    x = Activation('relu')(x)\n",
    "\n",
    "    x = Conv2D(filters3, (1, 1), name=conv_name_base + '2c')(x)\n",
    "    x = BatchNormalization(axis=bn_axis, name=bn_name_base + '2c')(x)\n",
    "\n",
    "    shortcut = Conv2D(filters3, (1, 1), strides=strides, name=conv_name_base + '1')(input_tensor)\n",
    "    shortcut = BatchNormalization(axis=bn_axis, name=bn_name_base + '1')(shortcut)\n",
    "\n",
    "    x = layers.add([x, shortcut])\n",
    "    x = Activation('relu')(x)\n",
    "    return x"
   ]
  },
  {
   "cell_type": "code",
   "execution_count": 82,
   "metadata": {},
   "outputs": [
    {
     "name": "stdout",
     "output_type": "stream",
     "text": [
      "(1, 56, 56, 256) 是conv变换前tensor\n",
      "(1, 28, 28, 512) 是conv变换后tensor, tensor_size缩小一半\n",
      "(1, 28, 28, 512) 是identity变换后tensor, tensor_size大小不变\n"
     ]
    }
   ],
   "source": [
    "\"\"\" Usage Sample \"\"\"\n",
    "import numpy as np\n",
    "import tensorflow as tf\n",
    "fake_x = np.random.rand(1, 56, 56, 256).astype(np.float32) # tensorflow: (batch, height, width, channel)\n",
    "fake_x = tf.convert_to_tensor(fake_x)\n",
    "\n",
    "print(fake_x.shape, \"是conv变换前tensor\")\n",
    "fake_x = conv_block(fake_x, 3, [128, 128, 512])\n",
    "print(fake_x.shape, \"是conv变换后tensor, tensor_size缩小一半\")\n",
    "fake_x = identity_block(fake_x, 3, [64, 64, 512])\n",
    "print(fake_x.shape, \"是identity变换后tensor, tensor_size大小不变\")"
   ]
  },
  {
   "cell_type": "code",
   "execution_count": null,
   "metadata": {
    "collapsed": true
   },
   "outputs": [],
   "source": []
  }
 ],
 "metadata": {
  "kernelspec": {
   "display_name": "Python 3",
   "language": "python",
   "name": "python3"
  },
  "language_info": {
   "codemirror_mode": {
    "name": "ipython",
    "version": 3
   },
   "file_extension": ".py",
   "mimetype": "text/x-python",
   "name": "python",
   "nbconvert_exporter": "python",
   "pygments_lexer": "ipython3",
   "version": "3.6.3"
  }
 },
 "nbformat": 4,
 "nbformat_minor": 2
}
