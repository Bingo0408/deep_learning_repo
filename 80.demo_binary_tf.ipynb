{
 "cells": [
  {
   "cell_type": "markdown",
   "metadata": {},
   "source": [
    "# Binary segmentation with the Lovász Hinge\n",
    "## Tensorflow version, see PyTorch version for more details & use in training"
   ]
  },
  {
   "cell_type": "code",
   "execution_count": 1,
   "metadata": {
    "collapsed": true
   },
   "outputs": [],
   "source": [
    "%load_ext autoreload\n",
    "%autoreload 2"
   ]
  },
  {
   "cell_type": "code",
   "execution_count": 2,
   "metadata": {
    "collapsed": true
   },
   "outputs": [],
   "source": [
    "from __future__ import division, print_function"
   ]
  },
  {
   "cell_type": "code",
   "execution_count": 24,
   "metadata": {},
   "outputs": [],
   "source": [
    "import tensorflow as tf"
   ]
  },
  {
   "cell_type": "code",
   "execution_count": 4,
   "metadata": {
    "collapsed": true
   },
   "outputs": [],
   "source": [
    "import lovasz_losses_tf as L"
   ]
  },
  {
   "cell_type": "code",
   "execution_count": 5,
   "metadata": {},
   "outputs": [],
   "source": [
    "import numpy as np\n",
    "import matplotlib.pyplot as plt\n",
    "%matplotlib inline"
   ]
  },
  {
   "cell_type": "code",
   "execution_count": 6,
   "metadata": {
    "collapsed": true
   },
   "outputs": [],
   "source": [
    "# add parent path to pythonpath to import demo_utils\n",
    "import sys\n",
    "sys.path.append('../demo_helpers')\n",
    "from demo_utils import pil_grid, dummy_triangles\n",
    "from demo_utils_tf import define_scope"
   ]
  },
  {
   "cell_type": "code",
   "execution_count": 7,
   "metadata": {
    "collapsed": true
   },
   "outputs": [],
   "source": [
    "# add pytorch folder to path for comparison\n",
    "sys.path.append('../pytorch')\n",
    "import lovasz_losses as L_pytorch"
   ]
  },
  {
   "cell_type": "markdown",
   "metadata": {},
   "source": [
    "### Ground truth"
   ]
  },
  {
   "cell_type": "code",
   "execution_count": 8,
   "metadata": {
    "collapsed": true
   },
   "outputs": [],
   "source": [
    "H = W = 200\n",
    "IGNORE = 255\n",
    "classes = [0, 255, 1]\n",
    "C = len([c for c in classes if c != IGNORE])\n",
    "B = 2"
   ]
  },
  {
   "cell_type": "code",
   "execution_count": 9,
   "metadata": {},
   "outputs": [
    {
     "data": {
      "image/png": "[encoded data removed]",
      "text/plain": [
       "<PIL.Image.Image image mode=RGB size=402x202 at 0x7F0E39F75C10>"
      ]
     },
     "execution_count": 9,
     "metadata": {},
     "output_type": "execute_result"
    }
   ],
   "source": [
    "np.random.seed(18)\n",
    "labels_ = [dummy_triangles(H, classes) for b in range(B)]\n",
    "labels = np.stack(map(np.array, labels_)).astype(np.uint8)\n",
    "pil_grid(labels_, 5, margin=1)"
   ]
  },
  {
   "cell_type": "markdown",
   "metadata": {},
   "source": [
    "### Features"
   ]
  },
  {
   "cell_type": "code",
   "execution_count": 10,
   "metadata": {
    "collapsed": true
   },
   "outputs": [],
   "source": [
    "np.random.seed(57)\n",
    "feats = np.zeros(labels.shape)\n",
    "feats[labels == 0] = np.random.normal(-1, 2.5, size=feats.shape)[labels == 0]\n",
    "feats[labels == 1] = np.random.normal(1, 2.5, size=feats.shape)[labels == 1]\n",
    "feats[labels == 255] = np.random.normal(0, 5, size=feats.shape)[labels == 255]"
   ]
  },
  {
   "cell_type": "code",
   "execution_count": 11,
   "metadata": {
    "collapsed": true
   },
   "outputs": [],
   "source": [
    "sess = tf.InteractiveSession()"
   ]
  },
  {
   "cell_type": "code",
   "execution_count": 12,
   "metadata": {
    "collapsed": true
   },
   "outputs": [],
   "source": [
    "labels_tf = tf.placeholder(np.int64, shape=(None, H, W), name='labels')\n",
    "feats_tf = tf.placeholder(np.float32, shape=(None, H, W), name='features')"
   ]
  },
  {
   "cell_type": "code",
   "execution_count": 13,
   "metadata": {
    "collapsed": true
   },
   "outputs": [],
   "source": [
    "feed_dict = {labels_tf: labels, \n",
    "             feats_tf: feats}"
   ]
  },
  {
   "cell_type": "markdown",
   "metadata": {},
   "source": [
    "### Model"
   ]
  },
  {
   "cell_type": "code",
   "execution_count": 14,
   "metadata": {
    "collapsed": true
   },
   "outputs": [],
   "source": [
    "class Model:\n",
    "    '''\n",
    "    Simple linear model\n",
    "    '''\n",
    "    \n",
    "    def __init__(self, feats):\n",
    "        self.feats = feats\n",
    "        self.scores\n",
    "        self.predict\n",
    "\n",
    "    @define_scope\n",
    "    def scores(self):\n",
    "        x = self.feats\n",
    "        bias = tf.Variable(0., x.dtype, name=\"bias\")\n",
    "        return tf.add(x, bias, name=\"scores\")\n",
    "    \n",
    "    @define_scope\n",
    "    def predict(self):\n",
    "        return tf.greater_equal(self.scores, 0, name=\"predict\")"
   ]
  },
  {
   "cell_type": "code",
   "execution_count": 15,
   "metadata": {
    "collapsed": true
   },
   "outputs": [],
   "source": [
    "m = Model(feats_tf)"
   ]
  },
  {
   "cell_type": "code",
   "execution_count": 16,
   "metadata": {
    "collapsed": true
   },
   "outputs": [],
   "source": [
    "sess.run(tf.global_variables_initializer())"
   ]
  },
  {
   "cell_type": "code",
   "execution_count": 17,
   "metadata": {
    "collapsed": true
   },
   "outputs": [],
   "source": [
    "loss = L.lovasz_hinge(m.scores, labels_tf, ignore=IGNORE, per_image=True)"
   ]
  },
  {
   "cell_type": "code",
   "execution_count": 18,
   "metadata": {},
   "outputs": [
    {
     "data": {
      "text/plain": [
       "3.4664204"
      ]
     },
     "execution_count": 18,
     "metadata": {},
     "output_type": "execute_result"
    }
   ],
   "source": [
    "loss.eval(feed_dict)"
   ]
  },
  {
   "cell_type": "markdown",
   "metadata": {},
   "source": [
    "#### Gradient w.r.t. bias"
   ]
  },
  {
   "cell_type": "code",
   "execution_count": 19,
   "metadata": {},
   "outputs": [
    {
     "data": {
      "text/plain": [
       "0.57314444"
      ]
     },
     "execution_count": 19,
     "metadata": {},
     "output_type": "execute_result"
    }
   ],
   "source": [
    "tf.gradients(loss, tf.trainable_variables()[0])[0].eval(feed_dict)"
   ]
  },
  {
   "cell_type": "markdown",
   "metadata": {},
   "source": [
    "### PyTorch reference"
   ]
  },
  {
   "cell_type": "markdown",
   "metadata": {},
   "source": [
    "should give the same results..."
   ]
  },
  {
   "cell_type": "code",
   "execution_count": 20,
   "metadata": {},
   "outputs": [],
   "source": [
    "import torch\n",
    "from torch.autograd import Variable\n",
    "import torch.nn.functional as F\n",
    "from torch.optim import Adam\n",
    "from torch import nn\n",
    "\n",
    "class ModelPytorch(nn.Module):\n",
    "    def __init__(self):\n",
    "        super(ModelPytorch, self).__init__()\n",
    "        self.bias = nn.Parameter(torch.Tensor([0]))\n",
    "    \n",
    "    def forward(self, x):\n",
    "        return x + self.bias\n",
    "\n",
    "m_torch = ModelPytorch()\n",
    "out = m_torch(Variable(torch.from_numpy(feats.astype(np.float32))))\n",
    "loss_torch = L_pytorch.lovasz_hinge(out, torch.from_numpy(labels), ignore=IGNORE, per_image=True)"
   ]
  },
  {
   "cell_type": "code",
   "execution_count": 21,
   "metadata": {},
   "outputs": [
    {
     "data": {
      "text/plain": [
       "3.4664204"
      ]
     },
     "execution_count": 21,
     "metadata": {},
     "output_type": "execute_result"
    }
   ],
   "source": [
    "loss_torch.data.numpy()[0]"
   ]
  },
  {
   "cell_type": "markdown",
   "metadata": {},
   "source": [
    "#### Gradient w.r.t. bias"
   ]
  },
  {
   "cell_type": "code",
   "execution_count": 22,
   "metadata": {
    "collapsed": true
   },
   "outputs": [],
   "source": [
    "loss_torch.backward()"
   ]
  },
  {
   "cell_type": "code",
   "execution_count": 23,
   "metadata": {},
   "outputs": [
    {
     "data": {
      "text/plain": [
       "0.57314444"
      ]
     },
     "execution_count": 23,
     "metadata": {},
     "output_type": "execute_result"
    }
   ],
   "source": [
    "m_torch.bias.grad.data.numpy()[0]"
   ]
  }
 ],
 "metadata": {
  "anaconda-cloud": {},
  "kernelspec": {
   "display_name": "Python [conda env:neural5]",
   "language": "python",
   "name": "conda-env-neural5-py"
  },
  "language_info": {
   "codemirror_mode": {
    "name": "ipython",
    "version": 2
   },
   "file_extension": ".py",
   "mimetype": "text/x-python",
   "name": "python",
   "nbconvert_exporter": "python",
   "pygments_lexer": "ipython2",
   "version": "2.7.11"
  }
 },
 "nbformat": 4,
 "nbformat_minor": 2
}
